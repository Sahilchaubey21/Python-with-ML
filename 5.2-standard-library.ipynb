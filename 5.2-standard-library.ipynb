{
 "cells": [
  {
   "cell_type": "markdown",
   "id": "42da7223",
   "metadata": {},
   "source": [
    "Pyhton's Standard Library is a vast collection of modules and packages that come bundle with python, providing a wide range of functionalities out of the box. Here's an overview of some of the most commonly used modules and packages in the python Standard Library."
   ]
  },
  {
   "cell_type": "code",
   "execution_count": 1,
   "id": "b8f2ffa5",
   "metadata": {},
   "outputs": [
    {
     "name": "stdout",
     "output_type": "stream",
     "text": [
      "array('i', [1, 2, 3, 4])\n"
     ]
    }
   ],
   "source": [
    "import array\n",
    "arr=array.array('i',[1,2,3,4])\n",
    "print(arr)"
   ]
  },
  {
   "cell_type": "code",
   "execution_count": 2,
   "id": "448dd0f6",
   "metadata": {},
   "outputs": [
    {
     "name": "stdout",
     "output_type": "stream",
     "text": [
      "3.141592653589793\n",
      "5.0\n"
     ]
    }
   ],
   "source": [
    "import math\n",
    "\n",
    "print(math.pi)\n",
    "print(math.sqrt(25))"
   ]
  },
  {
   "cell_type": "markdown",
   "id": "1472988e",
   "metadata": {},
   "source": [
    "# `Random`\n",
    "\n",
    "The random module is used to generate pseudo-random numbers and to perform random operations like selecting, shuffling, or sampling data."
   ]
  },
  {
   "cell_type": "code",
   "execution_count": 16,
   "id": "646fa524",
   "metadata": {},
   "outputs": [
    {
     "name": "stdout",
     "output_type": "stream",
     "text": [
      "13\n",
      "Dominoz\n"
     ]
    }
   ],
   "source": [
    "import random\n",
    "\n",
    "print(random.randint(1,20))\n",
    "print(random.choice(['Apple', 'Banana','Cherry', 'Dominoz']))"
   ]
  },
  {
   "cell_type": "markdown",
   "id": "5c1b61cc",
   "metadata": {},
   "source": [
    "` ## OS`\n",
    "\n",
    "It is used for Fle and Directory Access\n"
   ]
  },
  {
   "cell_type": "code",
   "execution_count": null,
   "id": "2391491e",
   "metadata": {},
   "outputs": [
    {
     "name": "stdout",
     "output_type": "stream",
     "text": [
      "c:\\Users\\sahil\\OneDrive\\Desktop\\Python\n"
     ]
    }
   ],
   "source": [
    "import os\n",
    "print(os.getcwd())  #check current working directory(cwd)"
   ]
  },
  {
   "cell_type": "code",
   "execution_count": null,
   "id": "d82d3284",
   "metadata": {},
   "outputs": [],
   "source": [
    "os.mkdir('Eg_Dir')  #Used to create Directory/Folder in current directories"
   ]
  },
  {
   "cell_type": "code",
   "execution_count": null,
   "id": "335aa09b",
   "metadata": {},
   "outputs": [
    {
     "data": {
      "text/plain": [
       "'destination.txt'"
      ]
     },
     "execution_count": 19,
     "metadata": {},
     "output_type": "execute_result"
    }
   ],
   "source": [
    "# High Level operations on files and collection of files\n",
    "\n",
    "import shutil\n",
    "shutil.copyfile('source.txt', 'destination.txt')   #copy data from one file to another\n"
   ]
  },
  {
   "cell_type": "code",
   "execution_count": 20,
   "id": "4dbbe244",
   "metadata": {},
   "outputs": [
    {
     "name": "stdout",
     "output_type": "stream",
     "text": [
      "{\"name\": \"Sahil\", \"age\": 22}\n",
      "<class 'str'>\n"
     ]
    }
   ],
   "source": [
    "# Data Serialization\n",
    "\n",
    "import json\n",
    "\n",
    "data={'name': 'Sahil', 'age': 22}\n",
    "json_str=json.dumps(data)\n",
    "print(json_str)\n",
    "print(type(json_str))"
   ]
  },
  {
   "cell_type": "code",
   "execution_count": 5,
   "id": "1767b7d6",
   "metadata": {},
   "outputs": [
    {
     "name": "stdout",
     "output_type": "stream",
     "text": [
      "['name', 'age']\n",
      "['Sahil', '22']\n"
     ]
    }
   ],
   "source": [
    "# CSV\n",
    "\n",
    "import csv\n",
    "\n",
    "with open('example.csv', mode='w', newline='') as file:\n",
    "    writer=csv.writer(file)\n",
    "    writer.writerow(['name', 'age'])\n",
    "    writer.writerow(['Sahil', 22])\n",
    "\n",
    "with open('example.csv', mode='r') as file:\n",
    "    reader = csv.reader(file)\n",
    "    for row in reader:\n",
    "        print(row)\n"
   ]
  },
  {
   "cell_type": "code",
   "execution_count": 6,
   "id": "c61d688b",
   "metadata": {},
   "outputs": [
    {
     "name": "stdout",
     "output_type": "stream",
     "text": [
      "2025-09-24 12:55:34.738885\n",
      "2025-09-23 12:55:34.738885\n"
     ]
    }
   ],
   "source": [
    "#datetime\n",
    "\n",
    "from datetime import datetime, timedelta\n",
    "\n",
    "now=datetime.now()\n",
    "print(now)\n",
    "\n",
    "yesterday=now-timedelta(days=1)\n",
    "print(yesterday)"
   ]
  },
  {
   "cell_type": "code",
   "execution_count": 14,
   "id": "308afecb",
   "metadata": {},
   "outputs": [
    {
     "name": "stdout",
     "output_type": "stream",
     "text": [
      "1758699219.1386933\n",
      "1758699224.1394255\n"
     ]
    }
   ],
   "source": [
    "#time\n",
    "\n",
    "import time\n",
    "\n",
    "print(time.time())\n",
    "time.sleep(5)\n",
    "print(time.time())"
   ]
  },
  {
   "cell_type": "code",
   "execution_count": null,
   "id": "3853e2de",
   "metadata": {},
   "outputs": [],
   "source": []
  },
  {
   "cell_type": "code",
   "execution_count": null,
   "id": "5330a37c",
   "metadata": {},
   "outputs": [],
   "source": []
  }
 ],
 "metadata": {
  "kernelspec": {
   "display_name": "base",
   "language": "python",
   "name": "python3"
  },
  "language_info": {
   "codemirror_mode": {
    "name": "ipython",
    "version": 3
   },
   "file_extension": ".py",
   "mimetype": "text/x-python",
   "name": "python",
   "nbconvert_exporter": "python",
   "pygments_lexer": "ipython3",
   "version": "3.12.7"
  }
 },
 "nbformat": 4,
 "nbformat_minor": 5
}
