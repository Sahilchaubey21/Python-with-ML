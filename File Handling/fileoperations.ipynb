{
 "cells": [
  {
   "cell_type": "markdown",
   "id": "19d3e2e6",
   "metadata": {},
   "source": [
    "## File Operations\n",
    " "
   ]
  },
  {
   "cell_type": "code",
   "execution_count": 3,
   "id": "7499d773",
   "metadata": {},
   "outputs": [
    {
     "name": "stdout",
     "output_type": "stream",
     "text": [
      "Hello, How are you and what is your good name ?\n",
      "Hey, I'm good and my name is Sahil Chaubey\n",
      "I live from Noida \n",
      "I'm currently pursuing B.Tech\n",
      "\n",
      "xyyzzz\n",
      "zzzz\n",
      "\n"
     ]
    }
   ],
   "source": [
    "#Read a whole file \n",
    "\n",
    "with open('example.txt', 'r') as file:\n",
    "    content=file.read()\n",
    "print(content)"
   ]
  },
  {
   "cell_type": "code",
   "execution_count": 9,
   "id": "20325ed5",
   "metadata": {},
   "outputs": [
    {
     "name": "stdout",
     "output_type": "stream",
     "text": [
      "Hello, How are you and what is your good name ?\n",
      "\n",
      "Hey, I'm good and my name is Sahil Chaubey\n",
      "\n",
      "I live from Noida \n",
      "\n",
      "I'm currently pursuing B.Tech\n",
      "\n",
      "xyyzzz\n",
      "\n",
      "zzzz\n",
      "\n",
      "Hello, How are you and what is your good name ?\n",
      "\n",
      "Hey, I'm good and my name is Sahil Chaubey\n",
      "\n",
      "I live from Noida \n",
      "\n",
      "I'm currently pursuing B.Tech\n",
      "\n",
      "xyyzzz\n",
      "\n",
      "zzzz\n",
      "\n"
     ]
    }
   ],
   "source": [
    "# Read line by line\n",
    "\n",
    "with open('example.txt', 'r') as file:\n",
    "    for line in file:\n",
    "        print(line)  \n",
    "\n",
    "# so bacically when we read line by line it takes a new line character \n",
    "#for remove i we use strip() \n",
    "\n",
    "with open('example.txt', 'r') as file:\n",
    "    for line in file:\n",
    "        print(line)"
   ]
  },
  {
   "cell_type": "code",
   "execution_count": null,
   "id": "91cfd22a",
   "metadata": {},
   "outputs": [],
   "source": [
    "#writing a file() with overriting  'w' mode\n",
    "\n",
    "with open('example.txt', 'w') as file:\n",
    "    file.write('This is my new line and i opened it in the write(w) mode so that i can over write on the existing content. Sahil Chaubey')\n",
    "      \n",
    "# so basically when we open file in 'w' mode it it write the new content only in the file it erase the entire previous content. "
   ]
  },
  {
   "cell_type": "code",
   "execution_count": 12,
   "id": "bd921c4e",
   "metadata": {},
   "outputs": [],
   "source": [
    "# writing a file() without overriting 'a' mode (apend)\n",
    "\n",
    "with open('example.txt', 'a') as file:\n",
    "    file.write('\\n So basically i am applying the append mode from here so that i can know that how append mode work.')"
   ]
  },
  {
   "cell_type": "code",
   "execution_count": 2,
   "id": "e59d1616",
   "metadata": {},
   "outputs": [],
   "source": [
    "#WRITING A LIST OF LINE TO A FILE   \n",
    "\n",
    "lines=['This is first line\\n','This is second line\\n','This is third line\\n','This is fourth line\\n']\n",
    "with open('example.txt','a') as file:\n",
    "    file.writelines(lines)"
   ]
  },
  {
   "cell_type": "markdown",
   "id": "d02df007",
   "metadata": {},
   "source": [
    "### Binary Files"
   ]
  },
  {
   "cell_type": "code",
   "execution_count": 4,
   "id": "0540cd7b",
   "metadata": {},
   "outputs": [],
   "source": [
    "#Writing to a Binary Files\n",
    "\n",
    "data = b'\\x00\\x01\\x03\\x04'\n",
    "with open('example.bin', 'wb') as file:\n",
    "    file.write(data)\n",
    " "
   ]
  },
  {
   "cell_type": "code",
   "execution_count": 5,
   "id": "4dde74c5",
   "metadata": {},
   "outputs": [
    {
     "name": "stdout",
     "output_type": "stream",
     "text": [
      "b'\\x00\\x01\\x03\\x04'\n"
     ]
    }
   ],
   "source": [
    "#Reading a Binary Files\n",
    "\n",
    "with open('example.bin', 'rb') as file:\n",
    "    content = file.read()\n",
    "    print(content)"
   ]
  },
  {
   "cell_type": "code",
   "execution_count": 1,
   "id": "498ad8ee",
   "metadata": {},
   "outputs": [],
   "source": [
    "## read the content from a source text file and write to a destinaton text file\n",
    "\n",
    "with open('example.txt', 'r') as source_file:\n",
    "    content = source_file.read()\n",
    "\n",
    "with open('destination.txt', 'w') as destiation_file:\n",
    "    destiation_file.write(content)"
   ]
  },
  {
   "cell_type": "code",
   "execution_count": 5,
   "id": "c8687f68",
   "metadata": {},
   "outputs": [
    {
     "name": "stdout",
     "output_type": "stream",
     "text": [
      "linesL 5, Words: 61, Characters: 301\n"
     ]
    }
   ],
   "source": [
    "# Read the text files and count the number of lines, words, and characters.\n",
    "\n",
    "def count_text_file(file_path):\n",
    "    with open(file_path, 'r') as file:\n",
    "        lines = file.readlines()\n",
    "        line_count = len(lines)\n",
    "        word_count = sum(len(line.split()) for line in lines)\n",
    "        char_count = sum(len(line) for line in lines)\n",
    "    return line_count, word_count, char_count\n",
    "\n",
    "file_path = 'example.txt'\n",
    "\n",
    "lines, words, characters = count_text_file(file_path)\n",
    "print(f'linesL {lines}, Words: {words}, Characters: {characters}')"
   ]
  },
  {
   "cell_type": "markdown",
   "id": "451c42ac",
   "metadata": {},
   "source": [
    "The w+ mode is used tp open a file for both reading and writing operation. If file doesn't exists, it will be created. If the file exists, its content is truncated(i.e; the file is overwritten).\n"
   ]
  },
  {
   "cell_type": "code",
   "execution_count": 10,
   "metadata": {},
   "outputs": [
    {
     "name": "stdout",
     "output_type": "stream",
     "text": [
      "Hello Dudeeee\n",
      "This is the new line\n",
      "\n"
     ]
    }
   ],
   "source": [
    "# Writing and then reading the file\n",
    "\n",
    "with open('example.txt', 'w+') as file:\n",
    "    file.write(\"Hello Dudeeee\\n\")\n",
    "    file.write(\"This is the new line\\n\")\n",
    "\n",
    "    #now move the file cursor to the begining\n",
    "\n",
    "    file.seek(0)\n",
    "\n",
    "    # Read the cotent of the file\n",
    "\n",
    "    content = file.read()\n",
    "    print(content)\n",
    "\n",
    "\n"
   ]
  },
  {
   "cell_type": "code",
   "execution_count": null,
   "id": "77cbf3d8",
   "metadata": {},
   "outputs": [],
   "source": []
  },
  {
   "cell_type": "markdown",
   "id": "6a5f7568",
   "metadata": {},
   "source": [
    "## `Create a new directory`"
   ]
  },
  {
   "cell_type": "code",
   "execution_count": 14,
   "id": "4ff11d85",
   "metadata": {},
   "outputs": [
    {
     "name": "stdout",
     "output_type": "stream",
     "text": [
      "Directory package is created\n"
     ]
    }
   ],
   "source": [
    "#creating a new directory\n",
    "\n",
    "import os\n",
    "\n",
    "new_directory = 'package'\n",
    "os.mkdir(new_directory)\n",
    "print(f'Directory {new_directory} is created')"
   ]
  },
  {
   "cell_type": "code",
   "execution_count": 15,
   "id": "ef99df95",
   "metadata": {},
   "outputs": [
    {
     "name": "stdout",
     "output_type": "stream",
     "text": [
      "['destination.txt', 'example.bin', 'example.txt', 'fileoperations.ipynb', 'package']\n"
     ]
    }
   ],
   "source": [
    "# Listng files and directories\n",
    "\n",
    "items=os.listdir('.')\n",
    "print(items)"
   ]
  },
  {
   "cell_type": "code",
   "execution_count": 16,
   "id": "2c4410cc",
   "metadata": {},
   "outputs": [
    {
     "name": "stdout",
     "output_type": "stream",
     "text": [
      "folder\\file.txt\n"
     ]
    }
   ],
   "source": [
    "## Joining paths\n",
    "\n",
    "dir_name='folder'\n",
    "file_name='file.txt'\n",
    "full_path= os.path.join(dir_name, file_name)\n",
    "\n",
    "print(full_path)\n"
   ]
  },
  {
   "cell_type": "code",
   "execution_count": 17,
   "id": "a3973626",
   "metadata": {},
   "outputs": [
    {
     "name": "stdout",
     "output_type": "stream",
     "text": [
      "The path example.txt exists\n"
     ]
    }
   ],
   "source": [
    "## Check weather the file is exists or not \n",
    "\n",
    "path = 'example.txt'\n",
    "if os.path.exists(path):\n",
    "    print(f'The path {path} exists')\n",
    "else:\n",
    "    print(f'The path {path} does not exists')"
   ]
  },
  {
   "cell_type": "code",
   "execution_count": null,
   "id": "9833e334",
   "metadata": {},
   "outputs": [],
   "source": []
  },
  {
   "cell_type": "code",
   "execution_count": null,
   "id": "4aa364e0",
   "metadata": {},
   "outputs": [],
   "source": []
  }
 ],
 "metadata": {
  "kernelspec": {
   "display_name": "base",
   "language": "python",
   "name": "python3"
  },
  "language_info": {
   "codemirror_mode": {
    "name": "ipython",
    "version": 3
   },
   "file_extension": ".py",
   "mimetype": "text/x-python",
   "name": "python",
   "nbconvert_exporter": "python",
   "pygments_lexer": "ipython3",
   "version": "3.12.7"
  }
 },
 "nbformat": 4,
 "nbformat_minor": 5
}
