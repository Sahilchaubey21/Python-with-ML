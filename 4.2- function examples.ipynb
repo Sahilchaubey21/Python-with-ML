{
 "cells": [
  {
   "cell_type": "markdown",
   "id": "0612c0ff",
   "metadata": {},
   "source": [
    "# ` Temperature conversion`"
   ]
  },
  {
   "cell_type": "code",
   "execution_count": 4,
   "id": "52dd287d",
   "metadata": {},
   "outputs": [],
   "source": [
    "def convert_temperature(temp, unit):\n",
    "    if unit == 'C':\n",
    "        return temp*9/5+32\n",
    "    if unit == 'F':\n",
    "        return (temp-32)*5/9\n",
    "    else:\n",
    "        return None\n",
    "\n",
    "    "
   ]
  },
  {
   "cell_type": "code",
   "execution_count": 5,
   "id": "93ebabb6",
   "metadata": {},
   "outputs": [
    {
     "name": "stdout",
     "output_type": "stream",
     "text": [
      "23.88888888888889\n",
      "77.0\n"
     ]
    }
   ],
   "source": [
    "print(convert_temperature(75, 'F'))\n",
    "print(convert_temperature(25, 'C'))"
   ]
  },
  {
   "cell_type": "markdown",
   "id": "bd4a9546",
   "metadata": {},
   "source": [
    "# ` Password Strength Checker`"
   ]
  },
  {
   "cell_type": "code",
   "execution_count": 6,
   "id": "f4bd264a",
   "metadata": {},
   "outputs": [],
   "source": [
    "def password_strength_checker(password):\n",
    "    if len(password)<8:\n",
    "        return False\n",
    "    if not any(char.isdigit() for char in password):\n",
    "        return False\n",
    "    if not any(char.islower() for char in password):\n",
    "        return False\n",
    "    if not any(char.isupper() for char in password):\n",
    "        return False\n",
    "    if not any(char in '!@#$%^&*()_+'  for char in password):\n",
    "        return False\n",
    "    return True\n"
   ]
  },
  {
   "cell_type": "code",
   "execution_count": 9,
   "id": "bd5184cc",
   "metadata": {},
   "outputs": [
    {
     "name": "stdout",
     "output_type": "stream",
     "text": [
      "False\n",
      "True\n"
     ]
    }
   ],
   "source": [
    "print(password_strength_checker(\"Password\"))\n",
    "print(password_strength_checker(\"P@5sword\"))"
   ]
  },
  {
   "cell_type": "markdown",
   "id": "980ee085",
   "metadata": {},
   "source": [
    "# ` Calculate the total cost of Items in a shopping cart`"
   ]
  },
  {
   "cell_type": "code",
   "execution_count": 11,
   "id": "4f51da6a",
   "metadata": {},
   "outputs": [],
   "source": [
    "def calculate_total_cost(cart):\n",
    "    total_cost=0\n",
    "    for item in cart:\n",
    "        total_cost += item['price'] * item['quantity']\n",
    "\n",
    "    return total_cost"
   ]
  },
  {
   "cell_type": "code",
   "execution_count": 12,
   "id": "7c182186",
   "metadata": {},
   "outputs": [
    {
     "name": "stdout",
     "output_type": "stream",
     "text": [
      "200\n"
     ]
    }
   ],
   "source": [
    "# cart data\n",
    "\n",
    "cart=[\n",
    "    {'Name':'Apple', 'price':20, 'quantity': 4},\n",
    "    {'Name':'Banana', 'price':5, 'quantity': 12},\n",
    "    {'Name':'Orange', 'price':10, 'quantity': 6}\n",
    "]\n",
    "\n",
    "\n",
    "#calling the function\n",
    "\n",
    "total_cost= (calculate_total_cost(cart))\n",
    "print(total_cost)"
   ]
  },
  {
   "cell_type": "markdown",
   "id": "e6f4a146",
   "metadata": {},
   "source": [
    "# `Check if the String is Palindrome`"
   ]
  },
  {
   "cell_type": "code",
   "execution_count": null,
   "id": "0eff816a",
   "metadata": {},
   "outputs": [
    {
     "name": "stdout",
     "output_type": "stream",
     "text": [
      "True\n",
      "False\n"
     ]
    }
   ],
   "source": [
    "def is_palindrome(s):\n",
    "    s = s.lower().replace(\" \", \"\")   # make lowercase and remove spaces\n",
    "    return s == s[::-1]\n",
    "\n",
    "print(is_palindrome(\"A man a plan a canal Panama\"))  # True\n",
    "print(is_palindrome(\"Hello\"))  # False\n"
   ]
  },
  {
   "cell_type": "markdown",
   "id": "7f67c41e",
   "metadata": {},
   "source": [
    "# ` Factorial of a Number`"
   ]
  },
  {
   "cell_type": "code",
   "execution_count": 24,
   "id": "9b6a575c",
   "metadata": {},
   "outputs": [
    {
     "name": "stdout",
     "output_type": "stream",
     "text": [
      "120\n"
     ]
    }
   ],
   "source": [
    "def factorial(n):\n",
    "    if n==0:\n",
    "        return 1\n",
    "    else:\n",
    "        return n * factorial(n-1)\n",
    "    \n",
    "print(factorial(5))"
   ]
  },
  {
   "cell_type": "code",
   "execution_count": null,
   "id": "83b4b60b",
   "metadata": {},
   "outputs": [],
   "source": []
  }
 ],
 "metadata": {
  "kernelspec": {
   "display_name": "base",
   "language": "python",
   "name": "python3"
  },
  "language_info": {
   "codemirror_mode": {
    "name": "ipython",
    "version": 3
   },
   "file_extension": ".py",
   "mimetype": "text/x-python",
   "name": "python",
   "nbconvert_exporter": "python",
   "pygments_lexer": "ipython3",
   "version": "3.12.7"
  }
 },
 "nbformat": 4,
 "nbformat_minor": 5
}
