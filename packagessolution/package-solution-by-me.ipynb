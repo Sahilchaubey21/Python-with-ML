{
 "cells": [
  {
   "cell_type": "markdown",
   "id": "2e6bd352",
   "metadata": {},
   "source": [
    "### Assignment 1: Importing and Using Modules\n",
    "\n",
    "Import the `math` module and use it to calculate the square root of 25 and the sine of 90 degrees."
   ]
  },
  {
   "cell_type": "code",
   "execution_count": 3,
   "id": "d636a0aa",
   "metadata": {},
   "outputs": [
    {
     "name": "stdout",
     "output_type": "stream",
     "text": [
      "5.0\n",
      "0.8939966636005579\n"
     ]
    }
   ],
   "source": [
    "import math \n",
    "print(math.sqrt(25))\n",
    "\n",
    "print(math.sin(90))"
   ]
  },
  {
   "cell_type": "markdown",
   "id": "8c38b7ab",
   "metadata": {},
   "source": [
    "### Assignment 2: Aliasing Modules\n",
    "\n",
    "Import the `datetime` module with an alias and use it to print the current date and time."
   ]
  },
  {
   "cell_type": "code",
   "execution_count": 11,
   "id": "17c0018f",
   "metadata": {},
   "outputs": [
    {
     "name": "stdout",
     "output_type": "stream",
     "text": [
      "2025-09-25 15:11:32.628861\n"
     ]
    }
   ],
   "source": [
    "import datetime as dt\n",
    "\n",
    "print(dt.datetime.now())"
   ]
  },
  {
   "cell_type": "markdown",
   "id": "c517654b",
   "metadata": {},
   "source": [
    "### Assignment 3: Importing Specific Functions\n",
    "\n",
    "Import the `randint` function from the `random` module and use it to generate a random integer between 1 and 100."
   ]
  },
  {
   "cell_type": "code",
   "execution_count": 21,
   "id": "502ebcb0",
   "metadata": {},
   "outputs": [
    {
     "name": "stdout",
     "output_type": "stream",
     "text": [
      "92\n"
     ]
    }
   ],
   "source": [
    "from random import randint\n",
    "\n",
    "print(random.randint(1,100))"
   ]
  },
  {
   "cell_type": "markdown",
   "id": "be99ff67",
   "metadata": {},
   "source": [
    "### Assignment 4: Importing Multiple Functions\n",
    "\n",
    "Import the `sqrt` and `pow` functions from the `math` module and use them to calculate the square root of 16 and 2 raised to the power of 3."
   ]
  },
  {
   "cell_type": "code",
   "execution_count": 23,
   "id": "1305691c",
   "metadata": {},
   "outputs": [
    {
     "name": "stdout",
     "output_type": "stream",
     "text": [
      "4.0\n",
      "8.0\n"
     ]
    }
   ],
   "source": [
    "from math import sqrt, pow\n",
    "\n",
    "print(sqrt(16))\n",
    "print(pow(2,3))"
   ]
  },
  {
   "cell_type": "markdown",
   "id": "d1687a2a",
   "metadata": {},
   "source": [
    "### Assignment 5: Handling Import Errors\n",
    "\n",
    "Write code that attempts to import a non-existent module and gracefully handles the import error by printing an error message.\n"
   ]
  },
  {
   "cell_type": "code",
   "execution_count": 31,
   "id": "24ca6738",
   "metadata": {},
   "outputs": [
    {
     "name": "stdout",
     "output_type": "stream",
     "text": [
      "your error is: No module named 'some_non_existing_module'\n"
     ]
    }
   ],
   "source": [
    "try:\n",
    "    import some_non_existing_module\n",
    "except ImportError as e:\n",
    "    print(f\"your error is: {e}\")"
   ]
  },
  {
   "cell_type": "markdown",
   "id": "4b5dee25",
   "metadata": {},
   "source": [
    "## Lesson 5.2: Standard Library Overview\n",
    "### Assignment 6: Working with the `os` Module\n",
    "\n",
    "\n",
    "Use the `os` module to create a new directory, list the contents of the current directory, and remove the newly created directory."
   ]
  },
  {
   "cell_type": "code",
   "execution_count": 32,
   "id": "32a18d63",
   "metadata": {},
   "outputs": [
    {
     "name": "stdout",
     "output_type": "stream",
     "text": [
      "New file test_dir has created\n"
     ]
    }
   ],
   "source": [
    "import os\n",
    "new_dir= \"test_dir\"\n",
    "os.mkdir(new_dir)\n",
    "print(f\"New file {new_dir} has created\")"
   ]
  },
  {
   "cell_type": "markdown",
   "id": "404aa00e",
   "metadata": {},
   "source": [
    "### Assignment 7: Working with the `sys` Module\n",
    "\n",
    "Use the `sys` module to print the Python version currently in use and the command-line arguments passed to the script."
   ]
  },
  {
   "cell_type": "code",
   "execution_count": 35,
   "id": "993577cb",
   "metadata": {},
   "outputs": [
    {
     "name": "stdout",
     "output_type": "stream",
     "text": [
      "Python Version: 3.12.7 | packaged by Anaconda, Inc. | (main, Oct  4 2024, 13:17:27) [MSC v.1929 64 bit (AMD64)]\n",
      "Command line Argument: ['c:\\\\Users\\\\sahil\\\\anaconda3\\\\Lib\\\\site-packages\\\\ipykernel_launcher.py', '--f=c:\\\\Users\\\\sahil\\\\AppData\\\\Roaming\\\\jupyter\\\\runtime\\\\kernel-v34464dbb229af04b6f231661df87dc11722b5911d.json']\n"
     ]
    }
   ],
   "source": [
    "import sys\n",
    "\n",
    "print(f\"Python Version: {sys.version}\")\n",
    "\n",
    "print(f\"Command line Argument: {sys.argv}\")"
   ]
  },
  {
   "cell_type": "markdown",
   "id": "c8debbe4",
   "metadata": {},
   "source": [
    "### Assignment 8: Working with the `math` Module\n",
    "\n",
    "Use the `math` module to calculate the greatest common divisor (GCD) of two numbers and the factorial of a number."
   ]
  },
  {
   "cell_type": "code",
   "execution_count": 36,
   "id": "1a62e3ec",
   "metadata": {},
   "outputs": [
    {
     "name": "stdout",
     "output_type": "stream",
     "text": [
      "10\n",
      "120\n"
     ]
    }
   ],
   "source": [
    "import math\n",
    "\n",
    "print(math.gcd(10,80))\n",
    "\n",
    "print(math.factorial(5))"
   ]
  },
  {
   "cell_type": "markdown",
   "id": "b25d3728",
   "metadata": {},
   "source": [
    "### Assignment 9: Working with the `datetime` Module\n",
    "\n",
    "Use the `datetime` module to print the current date, calculate the date 100 days from today, and determine the day of the week for a given date."
   ]
  },
  {
   "cell_type": "code",
   "execution_count": 64,
   "id": "b88471fe",
   "metadata": {},
   "outputs": [
    {
     "name": "stdout",
     "output_type": "stream",
     "text": [
      "Current date is: 2025-09-25\n",
      "Date 100 days from today is: 2026-01-03\n",
      "day of the week is: Saturday \n"
     ]
    }
   ],
   "source": [
    "import datetime\n",
    "\n",
    "print(f\"Current date is: {today.date()}\")\n",
    "\n",
    "futuredate= today+ timedelta(days=100)\n",
    "print(f\"Date 100 days from today is: {futuredate.date()}\")\n",
    "\n",
    "given_date = datetime.date(2026, 1, 3)\n",
    "\n",
    "print(f\"day of the week is: {given_date.strftime(\"%A\")} \")"
   ]
  },
  {
   "cell_type": "markdown",
   "id": "87f4d01c",
   "metadata": {},
   "source": [
    "### Assignment 10: Working with the `random` Module\n",
    "\n",
    "Use the `random` module to generate a list of 5 random numbers between 1 and 50 and shuffle the elements of a list.\n"
   ]
  },
  {
   "cell_type": "code",
   "execution_count": 5,
   "id": "c1311dc6",
   "metadata": {},
   "outputs": [
    {
     "name": "stdout",
     "output_type": "stream",
     "text": [
      "[42, 31, 48, 44, 43]\n",
      "[67, 10, 23, 45, 89]\n"
     ]
    }
   ],
   "source": [
    "import random\n",
    "\n",
    "random_number= [random.randint(0,50) for _ in range(5)]\n",
    "print(random_number)\n",
    "\n",
    "lst=[10,23,45,67,89]\n",
    "random.shuffle((lst))\n",
    "print(lst)"
   ]
  },
  {
   "cell_type": "markdown",
   "id": "237011a6",
   "metadata": {},
   "source": [
    "## Lesson 5.3: Creating and Using Packages\n",
    "### Assignment 11: Creating a Simple Package\n",
    "\n",
    "Create a package named `mypackage` with two modules: `module1` and `module2`. `module1` should contain a function that adds two numbers, and `module2` should contain a function that multiplies two numbers. Write code to use these functions."
   ]
  },
  {
   "cell_type": "code",
   "execution_count": null,
   "id": "d0089a3f",
   "metadata": {},
   "outputs": [
    {
     "name": "stdout",
     "output_type": "stream",
     "text": [
      "Module1 & Module2 has been created!\n"
     ]
    }
   ],
   "source": [
    "import os\n",
    "\n",
    "new_dir=\"mypackage\"\n",
    "os.mkdir(new_dir)\n",
    "print(f'Your new directory is creater named {new_dir}')\n",
    "\n",
    "file_path1= os.path.join(new_dir, \"module1.py\")\n",
    "file_path2=os.path.join(new_dir, \"module2.py\")\n",
    "print(\"Module1 & Module2 has been created!\")\n",
    "\n",
    "with open(file_path1, \"w\") as f:\n",
    "    f.write(\"def add_numbers(a,b) \\n return a+b \\n\")\n",
    "\n",
    "with open(file_path2, \"w\") as f:\n",
    "    f.write(\"def multiply(a,b) \\n return a*b \\n\")"
   ]
  },
  {
   "cell_type": "markdown",
   "id": "b7d97cc5",
   "metadata": {},
   "source": [
    "### Assignment 12: Using `__init__.py`\n",
    "\n",
    "Modify the `mypackage` package to include an `__init__.py` file that imports the functions from `module1` and `module2`. Write code to use these functions."
   ]
  },
  {
   "cell_type": "code",
   "execution_count": 11,
   "id": "9303f147",
   "metadata": {},
   "outputs": [
    {
     "name": "stdout",
     "output_type": "stream",
     "text": [
      "__init__ file has been created and also the has been imported from the module1 and module2\n"
     ]
    }
   ],
   "source": [
    "import os\n",
    "\n",
    "package_name = \"mypackage\"\n",
    "\n",
    "if not os.path.exists(package_name):\n",
    "    os.mkdir(package_name)\n",
    "\n",
    "init_path = os.path.join(package_name, \"__init__.py\")\n",
    "\n",
    "with open(init_path, \"w\") as f:\n",
    "    f.write(\"from .module1 import add_numbers\\n\")\n",
    "    f.write(\"from .module2 import multiply\")\n",
    "\n",
    "\n",
    "print(f'__init__ file has been created and also the has been imported from the module1 and module2')"
   ]
  },
  {
   "cell_type": "markdown",
   "id": "37594b79",
   "metadata": {},
   "source": [
    "### Assignment 13: Importing from a Package\n",
    "\n",
    "Write code to import and use the functions from `mypackage` without explicitly importing `module1` and `module2`."
   ]
  },
  {
   "cell_type": "code",
   "execution_count": 26,
   "id": "aa39d35d",
   "metadata": {},
   "outputs": [
    {
     "name": "stdout",
     "output_type": "stream",
     "text": [
      "Sum of both numbers is: 15\n",
      "Product of both numbers is: 24\n"
     ]
    }
   ],
   "source": [
    "from mypackage import add_numbers, multiply\n",
    "sum = add_numbers(10,5)\n",
    "product= multiply(6,4)\n",
    "\n",
    "print(f'Sum of both numbers is: {sum}')\n",
    "print(f'Product of both numbers is: {product}')"
   ]
  },
  {
   "cell_type": "markdown",
   "id": "69ecef59",
   "metadata": {},
   "source": [
    "### Assignment 14: Relative Imports\n",
    "\n",
    "Create a subpackage named `subpackage` within `mypackage` and move `module2` into `subpackage`. Modify the import statements in `__init__.py` to use relative imports. Write code to use the functions from both modules."
   ]
  },
  {
   "cell_type": "code",
   "execution_count": 33,
   "id": "3be55207",
   "metadata": {},
   "outputs": [
    {
     "name": "stdout",
     "output_type": "stream",
     "text": [
      "mypackage with subpackage created successfully!\n"
     ]
    }
   ],
   "source": [
    "import os\n",
    "\n",
    "# Step 1: Create main package directory\n",
    "package_name = \"mypackage\"\n",
    "if not os.path.exists(package_name):\n",
    "    os.mkdir(package_name)\n",
    "\n",
    "# Step 2: Create subpackage directory\n",
    "subpackage_name = \"subpackage\"\n",
    "subpackage_path = os.path.join(package_name, subpackage_name)\n",
    "if not os.path.exists(subpackage_path):\n",
    "    os.mkdir(subpackage_path)\n",
    "\n",
    "# Step 3: Create module1.py in mypackage\n",
    "module1_path = os.path.join(package_name, \"module1.py\")\n",
    "with open(module1_path, \"w\") as f:\n",
    "    f.write(\"def add_numbers(a, b):\\n\")\n",
    "    f.write(\"    return a + b\\n\")\n",
    "\n",
    "# Step 4: Create module2.py in subpackage\n",
    "module2_path = os.path.join(subpackage_path, \"module2.py\")\n",
    "with open(module2_path, \"w\") as f:\n",
    "    f.write(\"def multiply_numbers(a, b):\\n\")\n",
    "    f.write(\"    return a * b\\n\")\n",
    "\n",
    "# Step 5: Create __init__.py for mypackage with relative imports\n",
    "init_package_path = os.path.join(package_name, \"__init__.py\")\n",
    "with open(init_package_path, \"w\") as f:\n",
    "    f.write(\"from .module1 import add_numbers\\n\")\n",
    "    f.write(\"from .subpackage.module2 import multiply_numbers\\n\")\n",
    "\n",
    "# Step 6: Create __init__.py for subpackage (optional, but good practice)\n",
    "init_subpackage_path = os.path.join(subpackage_path, \"__init__.py\")\n",
    "with open(init_subpackage_path, \"w\") as f:\n",
    "    f.write(\"from .module2 import multiply_numbers\\n\")\n",
    "\n",
    "print(\"mypackage with subpackage created successfully!\")\n"
   ]
  },
  {
   "cell_type": "markdown",
   "id": "f6338d82",
   "metadata": {},
   "source": [
    "### Assignment 15: Handling Package Import Errors\n",
    "\n",
    "Write code that attempts to import a non-existent function from `mypackage` and gracefully handles the import error by printing an error message."
   ]
  },
  {
   "cell_type": "code",
   "execution_count": 41,
   "id": "77c76a15",
   "metadata": {},
   "outputs": [
    {
     "name": "stdout",
     "output_type": "stream",
     "text": [
      "Error is 'str' object is not callable\n"
     ]
    }
   ],
   "source": [
    "import os\n",
    "try:\n",
    "    sub(10,5)\n",
    "except Exception as e:\n",
    "    print(f'Error is {e}')"
   ]
  },
  {
   "cell_type": "code",
   "execution_count": null,
   "id": "add644d8",
   "metadata": {},
   "outputs": [],
   "source": []
  },
  {
   "cell_type": "code",
   "execution_count": null,
   "id": "450d9c34",
   "metadata": {},
   "outputs": [],
   "source": []
  },
  {
   "cell_type": "code",
   "execution_count": null,
   "id": "f93a0e41",
   "metadata": {},
   "outputs": [],
   "source": []
  }
 ],
 "metadata": {
  "kernelspec": {
   "display_name": "base",
   "language": "python",
   "name": "python3"
  },
  "language_info": {
   "codemirror_mode": {
    "name": "ipython",
    "version": 3
   },
   "file_extension": ".py",
   "mimetype": "text/x-python",
   "name": "python",
   "nbconvert_exporter": "python",
   "pygments_lexer": "ipython3",
   "version": "3.12.7"
  }
 },
 "nbformat": 4,
 "nbformat_minor": 5
}
