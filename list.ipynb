{
 "cells": [
  {
   "cell_type": "code",
   "execution_count": 2,
   "id": "dd0233e2",
   "metadata": {},
   "outputs": [
    {
     "name": "stdout",
     "output_type": "stream",
     "text": [
      "<class 'list'>\n"
     ]
    }
   ],
   "source": [
    "#CREATING THE LIST\n",
    "\n",
    "lst=[]\n",
    "print(type(lst))"
   ]
  },
  {
   "cell_type": "code",
   "execution_count": 5,
   "id": "ceba574e",
   "metadata": {},
   "outputs": [
    {
     "name": "stdout",
     "output_type": "stream",
     "text": [
      "['Ram', 'Shyam,']\n"
     ]
    }
   ],
   "source": [
    "name=[\"Ram\", \"Shyam,\"]\n",
    "print(name)"
   ]
  },
  {
   "cell_type": "code",
   "execution_count": 6,
   "id": "f0d9f692",
   "metadata": {},
   "outputs": [
    {
     "name": "stdout",
     "output_type": "stream",
     "text": [
      "['Ram', 'shyam', 1, 2, True, 3.12]\n"
     ]
    }
   ],
   "source": [
    "mixed_list=[\"Ram\",\"shyam\",1,2,True,3.12]\n",
    "print(mixed_list)"
   ]
  },
  {
   "cell_type": "code",
   "execution_count": 12,
   "id": "21a48464",
   "metadata": {},
   "outputs": [
    {
     "name": "stdout",
     "output_type": "stream",
     "text": [
      "['Papaya', 'Apple', 'Mango', 'Banana', 'Guava', 'Litchi', 'BlackBerry']\n",
      "Papaya\n",
      "['Apple', 'Mango']\n",
      "['Mango', 'Banana', 'Guava', 'Litchi', 'BlackBerry']\n"
     ]
    }
   ],
   "source": [
    "#ACCESSING OF LIST ITEMS FROM LIST\n",
    "\n",
    "lst_fruits=[\"Papaya\",\"Apple\",\"Mango\",\"Banana\",\"Guava\",\"Litchi\",\"BlackBerry\"]\n",
    "print(lst_fruits)\n",
    "\n",
    "print(lst_fruits[0])\n",
    "print(lst_fruits[1:3])\n",
    "print(lst_fruits[2:])"
   ]
  },
  {
   "cell_type": "code",
   "execution_count": null,
   "id": "8f2f9245",
   "metadata": {},
   "outputs": [
    {
     "name": "stdout",
     "output_type": "stream",
     "text": [
      "['Papaya', 'Watermelon', 'Apple', 'Mango', 'Banana', 'Guava', 'Litchi', 'BlackBerry']\n"
     ]
    }
   ],
   "source": [
    "#LIST METHOD \n",
    "lst_fruits=[\"Papaya\",\"Apple\",\"Mango\",\"Banana\",\"Guava\",\"Litchi\",\"BlackBerry\"]\n",
    "\n",
    "lst_fruits.append(\"Watermelon\")\n",
    "print(lst_fruits)\n",
    "\n",
    "lst_fruits.remove(\"Watermelon\")\n",
    "print(lst_fruits)\n",
    "\n",
    "\n",
    "lst_fruits.insert(1,\"Watermelon\")\n",
    "print(lst_fruits)\n",
    "\n",
    "\n"
   ]
  },
  {
   "cell_type": "code",
   "execution_count": 22,
   "id": "49433f66",
   "metadata": {},
   "outputs": [
    {
     "name": "stdout",
     "output_type": "stream",
     "text": [
      "BlackBerry\n",
      "['Papaya', 'Apple', 'Mango', 'Banana', 'Guava', 'Litchi']\n"
     ]
    }
   ],
   "source": [
    "#REMOVE THE LAST ELEMENT AND RETUEN IT\n",
    "\n",
    "fruits=[\"Papaya\",\"Apple\",\"Mango\",\"Banana\",\"Guava\",\"Litchi\",\"BlackBerry\"]\n",
    "\n",
    "popped_fruit=fruits.pop()\n",
    "print(popped_fruit) #RETUEN THE POPPEN ITEM\n",
    "print(fruits)  #PRINT THE REMAINING ELEMENT OF LIST\n",
    "\n"
   ]
  },
  {
   "cell_type": "code",
   "execution_count": 29,
   "id": "ca54bdc9",
   "metadata": {},
   "outputs": [
    {
     "name": "stdout",
     "output_type": "stream",
     "text": [
      "3\n",
      "['Papaya', 'Apple', 'Mango', 'Banana', 'Guava', 'Litchi', 'BlackBerry', 'Banana']\n"
     ]
    }
   ],
   "source": [
    "#GET THE INDEX OF ELEMENT FROM LIST\n",
    "\n",
    "fruits=[\"Papaya\",\"Apple\",\"Mango\",\"Banana\",\"Guava\",\"Litchi\",\"BlackBerry\"]\n",
    "\n",
    "index=fruits.index(\"Banana\")\n",
    "print(index)\n",
    "\n",
    "\n",
    "fruits.append(\"Banana\")\n",
    "print(fruits)"
   ]
  },
  {
   "cell_type": "code",
   "execution_count": 30,
   "id": "3227a034",
   "metadata": {},
   "outputs": [
    {
     "name": "stdout",
     "output_type": "stream",
     "text": [
      "2\n"
     ]
    }
   ],
   "source": [
    "#COUNT THE REPEATED ELEMENT FROM LIST\n",
    "\n",
    "count=fruits.count(\"Banana\")\n",
    "print(count)"
   ]
  },
  {
   "cell_type": "code",
   "execution_count": 33,
   "id": "07c78ffb",
   "metadata": {},
   "outputs": [
    {
     "name": "stdout",
     "output_type": "stream",
     "text": [
      "['Apple', 'Banana', 'BlackBerry', 'Guava', 'Litchi', 'Mango', 'Papaya']\n",
      "['Papaya', 'Mango', 'Litchi', 'Guava', 'BlackBerry', 'Banana', 'Apple']\n"
     ]
    }
   ],
   "source": [
    "fruits=[\"Papaya\",\"Apple\",\"Mango\",\"Banana\",\"Guava\",\"Litchi\",\"BlackBerry\"]\n",
    "fruits.sort()\n",
    "print(fruits)\n",
    "\n",
    "fruits.reverse()\n",
    "print(fruits)"
   ]
  },
  {
   "cell_type": "code",
   "execution_count": 34,
   "id": "e53a8aa3",
   "metadata": {},
   "outputs": [
    {
     "name": "stdout",
     "output_type": "stream",
     "text": [
      "['BlackBerry', 'Litchi', 'Guava', 'Banana', 'Mango', 'Apple', 'Papaya']\n"
     ]
    }
   ],
   "source": [
    "fruits=[\"Papaya\",\"Apple\",\"Mango\",\"Banana\",\"Guava\",\"Litchi\",\"BlackBerry\"]\n",
    "\n",
    "fruits.reverse()\n",
    "print(fruits)"
   ]
  },
  {
   "cell_type": "code",
   "execution_count": 41,
   "id": "b702fe41",
   "metadata": {},
   "outputs": [
    {
     "name": "stdout",
     "output_type": "stream",
     "text": [
      "[]\n"
     ]
    }
   ],
   "source": [
    "fruits=[\"Papaya\",\"Apple\",\"Mango\",\"Banana\",\"Guava\",\"Litchi\",\"BlackBerry\"]\n",
    "\n",
    "fruits.clear()\n",
    "print(fruits)\n"
   ]
  },
  {
   "cell_type": "code",
   "execution_count": 52,
   "id": "37dde22f",
   "metadata": {},
   "outputs": [
    {
     "name": "stdout",
     "output_type": "stream",
     "text": [
      "[2, 3, 4, 5, 6]\n",
      "[6, 7, 8, 9]\n",
      "[10, 9, 8, 7, 6]\n",
      "[1, 2, 3, 4, 5, 6, 7, 8, 9, 10]\n",
      "[10, 8, 6, 4, 2]\n",
      "[1, 3, 5, 7, 9]\n"
     ]
    }
   ],
   "source": [
    "numbers=[1,2,3,4,5,6,7,8,9,10]\n",
    "print(numbers[1:6])\n",
    "print(numbers[5:9])\n",
    "print(numbers[10:4:-1])\n",
    "print(numbers[::])\n",
    "print(numbers[10::-2])\n",
    "print(numbers[::2])"
   ]
  },
  {
   "cell_type": "code",
   "execution_count": 54,
   "id": "950b6bee",
   "metadata": {},
   "outputs": [
    {
     "name": "stdout",
     "output_type": "stream",
     "text": [
      "1\n",
      "2\n",
      "3\n",
      "4\n",
      "5\n",
      "6\n",
      "7\n",
      "8\n",
      "9\n",
      "10\n"
     ]
    }
   ],
   "source": [
    "#ITERATING OVER LIST\n",
    "\n",
    "numbers=[1,2,3,4,5,6,7,8,9,10]\n",
    "for number in numbers:\n",
    "    print(number)"
   ]
  },
  {
   "cell_type": "code",
   "execution_count": 59,
   "id": "4b6ae88e",
   "metadata": {},
   "outputs": [
    {
     "name": "stdout",
     "output_type": "stream",
     "text": [
      "0 1\n",
      "1 2\n",
      "2 3\n",
      "3 4\n",
      "4 5\n",
      "5 6\n",
      "6 7\n",
      "7 8\n",
      "8 9\n",
      "9 10\n"
     ]
    }
   ],
   "source": [
    "#ITERATING NUMBERS WITH INDEX\n",
    "numbers=[1,2,3,4,5,6,7,8,9,10]\n",
    "for index, number in enumerate(numbers):\n",
    "    print(index, number)\n"
   ]
  },
  {
   "cell_type": "code",
   "execution_count": 63,
   "id": "6d2f27db",
   "metadata": {},
   "outputs": [
    {
     "name": "stdout",
     "output_type": "stream",
     "text": [
      "[0, 1, 4, 9, 16, 25, 36, 49, 64, 81]\n"
     ]
    }
   ],
   "source": [
    "#SQUARE USING LIST\n",
    "\n",
    "lst=[]\n",
    "for x in range(10):\n",
    "    lst.append(x**2)\n",
    "print(lst)\n"
   ]
  },
  {
   "cell_type": "code",
   "execution_count": 64,
   "id": "d4e4d794",
   "metadata": {},
   "outputs": [
    {
     "name": "stdout",
     "output_type": "stream",
     "text": [
      "[0, 1, 4, 9, 16]\n"
     ]
    }
   ],
   "source": [
    "num=[1,2,3,4,5]\n",
    "square=[num**2  for num in range(5)]\n",
    "print(square)"
   ]
  },
  {
   "cell_type": "code",
   "execution_count": 69,
   "id": "97a64a33",
   "metadata": {},
   "outputs": [
    {
     "name": "stdout",
     "output_type": "stream",
     "text": [
      "[0, 2, 4, 6, 8]\n"
     ]
    }
   ],
   "source": [
    "#EVEN NUMBER PRINT FROM LIST\n",
    "\n",
    "lst=[]\n",
    "for i in range(10):\n",
    "    if i%2==0:\n",
    "        lst.append(i)\n",
    "print(lst)\n"
   ]
  },
  {
   "cell_type": "code",
   "execution_count": null,
   "id": "9b2ed2bc",
   "metadata": {},
   "outputs": [
    {
     "name": "stdout",
     "output_type": "stream",
     "text": [
      "[0, 2, 4, 6, 8]\n"
     ]
    }
   ],
   "source": [
    "#AGAIN SAME QUESTION\n",
    "\n",
    "num=[1,2,3,4,5,6,7,8,9,10]\n",
    "even_number=[num for num in range(10) if num % 2 ==0]\n",
    "print(even_number)"
   ]
  },
  {
   "cell_type": "code",
   "execution_count": 77,
   "id": "bd08b730",
   "metadata": {},
   "outputs": [
    {
     "name": "stdout",
     "output_type": "stream",
     "text": [
      "[(1, 'a'), (1, 'b'), (1, 'c'), (1, 'd'), (2, 'a'), (2, 'b'), (2, 'c'), (2, 'd'), (3, 'a'), (3, 'b'), (3, 'c'), (3, 'd'), (4, 'a'), (4, 'b'), (4, 'c'), (4, 'd')]\n"
     ]
    }
   ],
   "source": [
    "#NESTED LIST COMPHRENSION\n",
    "\n",
    "#[EXPRESSION   FOR ITEM IN ITERABLE1, FOR ITEM IN ITERABLE2 ]\n",
    "lst1=[1,2,3,4]\n",
    "lst2=[\"a\",\"b\",\"c\",\"d\"]\n",
    "pair=[(i,j) for i in lst1 for j in lst2]\n",
    "print(pair)"
   ]
  },
  {
   "cell_type": "code",
   "execution_count": 81,
   "id": "01173b5b",
   "metadata": {},
   "outputs": [
    {
     "name": "stdout",
     "output_type": "stream",
     "text": [
      "[5, 5, 6, 4, 12]\n"
     ]
    }
   ],
   "source": [
    "#LIST COMPHRENSION WITH FUNCTION CALLS\n",
    "#MEASURE THE LENGTH OF GIVEN ELEMENTS\n",
    "\n",
    "words=[\"Hello\", \"World\", \"Python\", \"List\", \"Comphrension\"]\n",
    "lengths=[len(word) for word in words]\n",
    "print(lengths)"
   ]
  },
  {
   "cell_type": "code",
   "execution_count": null,
   "id": "b74796fb",
   "metadata": {},
   "outputs": [],
   "source": []
  }
 ],
 "metadata": {
  "kernelspec": {
   "display_name": "base",
   "language": "python",
   "name": "python3"
  },
  "language_info": {
   "codemirror_mode": {
    "name": "ipython",
    "version": 3
   },
   "file_extension": ".py",
   "mimetype": "text/x-python",
   "name": "python",
   "nbconvert_exporter": "python",
   "pygments_lexer": "ipython3",
   "version": "3.12.7"
  }
 },
 "nbformat": 4,
 "nbformat_minor": 5
}
