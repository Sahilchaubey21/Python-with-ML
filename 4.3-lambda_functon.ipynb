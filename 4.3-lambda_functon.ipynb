{
 "cells": [
  {
   "cell_type": "code",
   "execution_count": 1,
   "id": "ff5a77e2",
   "metadata": {},
   "outputs": [
    {
     "name": "stdout",
     "output_type": "stream",
     "text": [
      "5\n"
     ]
    }
   ],
   "source": [
    "# if we create a normal addition function \n",
    "\n",
    "def addition(a,b):\n",
    "    return a+b\n",
    "\n",
    "print(addition(2,3))"
   ]
  },
  {
   "cell_type": "code",
   "execution_count": 2,
   "id": "9ae632b1",
   "metadata": {},
   "outputs": [
    {
     "name": "stdout",
     "output_type": "stream",
     "text": [
      "11\n"
     ]
    }
   ],
   "source": [
    "# Now if we create the same adddition function by lambda function than --\n",
    "\n",
    "addition = lambda a,b: a+b\n",
    "\n",
    "print(addition(5,6))"
   ]
  },
  {
   "cell_type": "code",
   "execution_count": 6,
   "id": "0afd8f4e",
   "metadata": {},
   "outputs": [
    {
     "name": "stdout",
     "output_type": "stream",
     "text": [
      "True\n"
     ]
    }
   ],
   "source": [
    "# lets create a normal function of even or odd\n",
    "\n",
    "def even(num):\n",
    "    if num%2==0:\n",
    "        return True\n",
    " \n",
    "    \n",
    "print(even(24))"
   ]
  },
  {
   "cell_type": "code",
   "execution_count": 8,
   "id": "cd3fb07a",
   "metadata": {},
   "outputs": [
    {
     "data": {
      "text/plain": [
       "True"
      ]
     },
     "execution_count": 8,
     "metadata": {},
     "output_type": "execute_result"
    }
   ],
   "source": [
    "even1=lambda num:num%2==0\n",
    "even1(10)"
   ]
  },
  {
   "cell_type": "code",
   "execution_count": 9,
   "id": "a5beba51",
   "metadata": {},
   "outputs": [
    {
     "data": {
      "text/plain": [
       "60"
      ]
     },
     "execution_count": 9,
     "metadata": {},
     "output_type": "execute_result"
    }
   ],
   "source": [
    "# lambda function with more arguments --\n",
    "\n",
    "addition= lambda a,b,c: a+b+c\n",
    "\n",
    "addition(10,20,30)"
   ]
  },
  {
   "cell_type": "code",
   "execution_count": null,
   "id": "53641d03",
   "metadata": {},
   "outputs": [],
   "source": []
  }
 ],
 "metadata": {
  "kernelspec": {
   "display_name": "base",
   "language": "python",
   "name": "python3"
  },
  "language_info": {
   "codemirror_mode": {
    "name": "ipython",
    "version": 3
   },
   "file_extension": ".py",
   "mimetype": "text/x-python",
   "name": "python",
   "nbconvert_exporter": "python",
   "pygments_lexer": "ipython3",
   "version": "3.12.7"
  }
 },
 "nbformat": 4,
 "nbformat_minor": 5
}
